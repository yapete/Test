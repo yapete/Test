{
 "cells": [
  {
   "cell_type": "code",
   "execution_count": 27,
   "metadata": {
    "collapsed": false
   },
   "outputs": [
    {
     "name": "stdout",
     "output_type": "stream",
     "text": [
      "25483\n"
     ]
    },
    {
     "data": {
      "image/png": "[encoded data removed]",
      "text/plain": [
       "<matplotlib.figure.Figure at 0x92b6a6e4a8>"
      ]
     },
     "metadata": {},
     "output_type": "display_data"
    }
   ],
   "source": [
    "import numpy as np\n",
    "from numpy import random as rnd\n",
    "import matplotlib.pyplot as plt\n",
    "import matplotlib.patches as pat\n",
    "%matplotlib inline\n",
    "\n",
    "def dec2bin(d,N=0):\n",
    "    NN=int(np.log(d)/np.log(2))\n",
    "    N=N-1    \n",
    "    if N<NN:\n",
    "        N=NN\n",
    "    s=[]\n",
    "    dd=d\n",
    "    for i in range(N,-1,-1):\n",
    "        if dd>=2**i:\n",
    "            s=s+[1]\n",
    "            dd=dd-2**i\n",
    "        else:\n",
    "            s=s+[0]\n",
    "    return s\n",
    "    \n",
    "def pltrow(s,n,ax):\n",
    "    Ls = len(s)\n",
    "    for i in range(Ls):\n",
    "        if s[i]==1.:\n",
    "            xy=(i,n)\n",
    "            ax.add_patch(pat.Rectangle(xy,1,1,color='k'))    \n",
    "\n",
    "def cell_evolve(a,CA_bin):\n",
    "    LC=len(a)\n",
    "    b=[0]*LC\n",
    "    for i in range(LC):\n",
    "        config=a[(i-2)%LC]*16+a[(i-1)%LC]*8+a[(i)%LC]*4+a[(i+1)%LC]*2+a[(i+2)%LC]\n",
    "        b[i]=CA_bin[config]\n",
    "    return b\n",
    "        \n",
    "    \n",
    "\n",
    "# initialize\n",
    "LC=200 # length of 1D cellular automaton\n",
    "N = 100 # Number of rows to be calculated\n",
    "ex=32*rnd.random()\n",
    "CA_type=int(2**ex) \n",
    "#CA_type=106*2**16+1\n",
    "\n",
    "# 2047473617 (Mayan), 2047473616 (Mayan people in houses), 2047473615 (random dark w.lines of crosses),2047473618 (sparse houses on black fields)\n",
    "# 2161464019 (roots within stripes), 2697810907 (wiggly patterns), 3216668782 (dark Sierpinski),1729733676 (random stripe),\n",
    "# 412 (stairs), 9194274 (criss-cross), 17,25 (horizontal stripe, window shutters), 305260190 (random connected),\n",
    "# 130858504 (evolving thick lines), 1510955656 (fading stripes), 27477 (intervening diagonals within vertical stripes).\n",
    "# 367 (Moire stripes), 56592402 (dotted lines), 2055980965,2055980966 (houses and trees, random), 2055980968 (random)\n",
    "# 28274968 (random with short diagonals), 238564 (sparse randomness), 2014 (checker and stripes, evolving dark block)\n",
    "# 1437 (checkerboards and stripes), 805015073 (checkerboard), 8518 (random skewed white triangles), 7777 (horizontal strips with oscillating density)\n",
    "# 6859 (wiggly diagonal stripes), 32801943 (organic random stripes), 1692000488 (skyscrapers - roofs with vertical stripes below),\n",
    "# 778665433 (Pueblo houses with stairs), 623 (3D looking stripes), 779112 (random forest), 611172 (large random white patches),\n",
    "# 2 (sparse diagonal lines), 18653533 (almost regular pattern), 3436161 (hooks), 32801944 (wavy diagonal lines with white dots)\n",
    "# 64735 (psychedelic lines), 39076729 (Tornadoes over random fields), 46876246 (zig-zag quilt), \n",
    "# 1570942252 (upside-down umbrellas),40093782 (rough surface), 1 (horizontal lines), 41545 (cannons in a field)\n",
    "# 41, 105 (pillared steps), 222552731 (diagonal structures at different angles). 1435901 (different diagonal patterns)\n",
    "\n",
    "\n",
    "\n",
    "\n",
    "print (CA_type)\n",
    "CA_bin=dec2bin(CA_type,32)\n",
    "CA_bin.reverse()\n",
    "\n",
    "a=[int(rnd.random()>0.5) for i in range(LC)] # random initial condition\n",
    "#a=[0]*LC\n",
    "#a[int(LC/2)]=1\n",
    "\n",
    "\n",
    "fig1=plt.figure(figsize=(14,10))\n",
    "ax1 = fig1.add_subplot(111, aspect='equal')\n",
    "ax1.axis([0,LC,0,N])\n",
    "\n",
    "for i in range(N):\n",
    "    pltrow(a,N-i,ax1)\n",
    "    a=cell_evolve(a,CA_bin)\n"
   ]
  },
  {
   "cell_type": "code",
   "execution_count": null,
   "metadata": {
    "collapsed": true
   },
   "outputs": [],
   "source": []
  }
 ],
 "metadata": {
  "anaconda-cloud": {},
  "kernelspec": {
   "display_name": "Python [Root]",
   "language": "python",
   "name": "Python [Root]"
  },
  "language_info": {
   "codemirror_mode": {
    "name": "ipython",
    "version": 3
   },
   "file_extension": ".py",
   "mimetype": "text/x-python",
   "name": "python",
   "nbconvert_exporter": "python",
   "pygments_lexer": "ipython3",
   "version": "3.5.2"
  }
 },
 "nbformat": 4,
 "nbformat_minor": 0
}
